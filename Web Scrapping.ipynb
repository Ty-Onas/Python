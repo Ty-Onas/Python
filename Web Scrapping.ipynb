{
 "cells": [
  {
   "cell_type": "markdown",
   "id": "43763209-637e-4bd4-8282-2639c7a8f8c1",
   "metadata": {},
   "source": [
    "Scraping text from Wikipedia  website using Beautiful Soup\r\n",
    "\r\n",
    "\r\n",
    "Instruction756pc\r\n",
    "\r\n",
    "1.1) Write a function to Get and parse html content from a Wikipedia page\r\n",
    "\r\n",
    "1.2) Write a function to Extract article title\r\n",
    "\r\n",
    "1.3) Write a function to Extract article text for each paragraph with their respective\r\n",
    "\r\n",
    "headings. Map those headings to their respective paragraphs in the dictionary.\r\n",
    "\r\n",
    "1.4) Write a function to collect every link that redirects to another Wikipedia page\r\n",
    "\r\n",
    "1.5) Wrap all the previous functions into a single function that takes as parameters a Wikipedia link\r\n",
    "\r\n",
    "1.6) Test the last function on a Wikipedia page of your choice"
   ]
  },
  {
   "cell_type": "code",
   "execution_count": 2,
   "id": "7c026b07-a93f-45fa-a262-9e0a805b2eb2",
   "metadata": {
    "scrolled": true
   },
   "outputs": [
    {
     "name": "stdout",
     "output_type": "stream",
     "text": [
      "Requirement already satisfied: requests in c:\\users\\hp\\anaconda3\\lib\\site-packages (2.32.2)Note: you may need to restart the kernel to use updated packages.\n",
      "\n",
      "Requirement already satisfied: beautifulsoup4 in c:\\users\\hp\\anaconda3\\lib\\site-packages (4.12.3)\n",
      "Requirement already satisfied: charset-normalizer<4,>=2 in c:\\users\\hp\\anaconda3\\lib\\site-packages (from requests) (2.0.4)\n",
      "Requirement already satisfied: idna<4,>=2.5 in c:\\users\\hp\\anaconda3\\lib\\site-packages (from requests) (3.7)\n",
      "Requirement already satisfied: urllib3<3,>=1.21.1 in c:\\users\\hp\\anaconda3\\lib\\site-packages (from requests) (2.2.2)\n",
      "Requirement already satisfied: certifi>=2017.4.17 in c:\\users\\hp\\anaconda3\\lib\\site-packages (from requests) (2024.8.30)\n",
      "Requirement already satisfied: soupsieve>1.2 in c:\\users\\hp\\anaconda3\\lib\\site-packages (from beautifulsoup4) (2.5)\n"
     ]
    }
   ],
   "source": [
    "pip install requests beautifulsoup4"
   ]
  },
  {
   "cell_type": "code",
   "execution_count": 4,
   "id": "5a1059f3-2ac0-40b8-8eb3-6039b28fbdb6",
   "metadata": {},
   "outputs": [],
   "source": [
    "# Function to Get and Parse HTML Content\n",
    "import requests\n",
    "from bs4 import BeautifulSoup\n",
    "\n",
    "def get_html_content(url):\n",
    "    response = requests.get(url)\n",
    "    if response.status_code == 200:\n",
    "        return BeautifulSoup(response.content, 'html.parser')\n",
    "    else:\n",
    "        print(f\"Error: Unable to fetch the page, status code {response.status_code}\")\n",
    "        return None"
   ]
  },
  {
   "cell_type": "code",
   "execution_count": 6,
   "id": "c92275c5-5bcd-48c7-87b3-abf7603f1f44",
   "metadata": {},
   "outputs": [],
   "source": [
    "#Function to Extract Article Title\n",
    "def extract_title(soup):\n",
    "    title = soup.find('h1', id=\"firstHeading\")\n",
    "    return title.get_text() if title else \"No title found\""
   ]
  },
  {
   "cell_type": "code",
   "execution_count": 8,
   "id": "226adfb0-a10c-4378-abbe-0cbc8f5072c3",
   "metadata": {},
   "outputs": [],
   "source": [
    "#Function to Extract Article Text with Headings\n",
    "def extract_article_text(soup):\n",
    "    content = {}\n",
    "    current_heading = None\n",
    "    for element in soup.find_all(['h2', 'h3', 'p']):\n",
    "        if element.name in ['h2', 'h3']:\n",
    "            # Update the current heading\n",
    "            current_heading = element.get_text().strip()\n",
    "            content[current_heading] = []\n",
    "        elif element.name == 'p' and current_heading:\n",
    "            # Append paragraph text to the current heading\n",
    "            content[current_heading].append(element.get_text().strip())\n",
    "    # Join paragraphs under each heading\n",
    "    return {heading: \" \".join(paragraphs) for heading, paragraphs in content.items()}\n"
   ]
  },
  {
   "cell_type": "code",
   "execution_count": 10,
   "id": "735982ef-d5bb-4c8f-863a-9e9a1f11a187",
   "metadata": {},
   "outputs": [],
   "source": [
    "#Function to Collect Links to Other Wikipedia Pages\n",
    "def collect_wikipedia_links(soup):\n",
    "    links = set()\n",
    "    for link in soup.find_all('a', href=True):\n",
    "        href = link['href']\n",
    "        if href.startswith('/wiki/') and ':' not in href:\n",
    "            full_url = f\"https://en.wikipedia.org{href}\"\n",
    "            links.add(full_url)\n",
    "    return list(links)"
   ]
  },
  {
   "cell_type": "code",
   "execution_count": 12,
   "id": "a1b822e1-f7bd-40f9-89f4-7c4efaaed699",
   "metadata": {},
   "outputs": [],
   "source": [
    "#Wrapper Function\n",
    "def scrape_wikipedia_page(url):\n",
    "    soup = get_html_content(url)\n",
    "    if not soup:\n",
    "        return None\n",
    "    \n",
    "    data = {}\n",
    "    data['title'] = extract_title(soup)\n",
    "    data['content'] = extract_article_text(soup)\n",
    "    data['links'] = collect_wikipedia_links(soup)\n",
    "    \n",
    "    return data"
   ]
  },
  {
   "cell_type": "code",
   "execution_count": 14,
   "id": "0a65e866-2f9f-497f-86a6-2c5730f3fad3",
   "metadata": {},
   "outputs": [
    {
     "name": "stdout",
     "output_type": "stream",
     "text": [
      "Title: Python (programming language)\n",
      "\n",
      "Content:\n",
      "Contents:  Python is a high-level, general-purpose programming language. Its design philosophy emphasizes code...\n",
      "History: Python was invented in the late 1980s[41] by Guido van Rossum at Centrum Wiskunde & Informatica (CWI...\n",
      "Design philosophy and features: Python is a multi-paradigm programming language. Object-oriented programming and structured programm...\n",
      "Syntax and semantics: Python is meant to be an easily readable language. Its formatting is visually uncluttered and often ...\n",
      "Indentation: Python uses whitespace indentation, rather than curly brackets or keywords, to delimit blocks. An in...\n",
      "Statements and control flow: Python's statements include: The assignment statement (=) binds a name as a reference to a separate,...\n",
      "Expressions: Python's expressions include: In Python, a distinction between expressions and statements is rigidly...\n",
      "Methods: Methods on objects are functions attached to the object's class; the syntax instance.method(argument...\n",
      "Typing: Python uses duck typing and has typed objects but untyped variable names. Type constraints are not c...\n",
      "Arithmetic operations: Python has the usual symbols for arithmetic operators (+, -, *, /), the floor division operator // a...\n",
      "Programming examples: \"Hello, World!\" program: Program to calculate the factorial of a positive integer:...\n",
      "Libraries: Python's large standard library[134] provides tools suited to many tasks and is commonly cited as on...\n",
      "Development environments: Most Python implementations (including CPython) include a read–eval–print loop (REPL), permitting th...\n",
      "Implementations: ...\n",
      "Reference implementation: CPython is the reference implementation of Python. It is written in C, meeting the C89 standard (Pyt...\n",
      "Other implementations: All alternative implementations have at least slightly different semantics (e.g. may have unordered ...\n",
      "No longer supported implementations: Other just-in-time Python compilers have been developed, but are now unsupported:...\n",
      "Cross-compilers to other languages: There are several compilers/transpilers to high-level object languages, with either unrestricted Pyt...\n",
      "Performance: Performance comparison of various Python implementations on a non-numerical (combinatorial) workload...\n",
      "Development: Python's development is conducted largely through the Python Enhancement Proposal (PEP) process, the...\n",
      "API documentation generators: Tools that can generate documentation for Python API include pydoc (available as part of the standar...\n",
      "Naming: Python's name is derived from the British comedy group Monty Python, whom Python creator Guido van R...\n",
      "Popularity: Since 2003, Python has consistently ranked in the top ten most popular programming languages in the ...\n",
      "Uses: Python can serve as a scripting language for web applications, e.g. via mod_wsgi for the Apache webs...\n",
      "Languages influenced by Python: Python's design and philosophy have influenced many other programming languages: Python's developmen...\n",
      "See also: ...\n",
      "References: ...\n",
      "Sources: ...\n",
      "Further reading: ...\n",
      "External links: ...\n",
      "\n",
      "Links:\n",
      "['https://en.wikipedia.org/wiki/List_of_integrated_development_environments_for_Python#Python', 'https://en.wikipedia.org/wiki/C%2B%2B11', 'https://en.wikipedia.org/wiki/DALL-E', 'https://en.wikipedia.org/wiki/GPT-1', 'https://en.wikipedia.org/wiki/Blender_(software)']\n"
     ]
    }
   ],
   "source": [
    "# Test the function on a sample Wikipedia page\n",
    "url = \"https://en.wikipedia.org/wiki/Python_(programming_language)\"\n",
    "data = scrape_wikipedia_page(url)\n",
    "\n",
    "# Print the scraped data\n",
    "print(\"Title:\", data['title'])\n",
    "print(\"\\nContent:\")\n",
    "for heading, text in data['content'].items():\n",
    "    print(f\"{heading}: {text[:100]}...\")  # Display the first 100 characters of each section for brevity\n",
    "\n",
    "print(\"\\nLinks:\")\n",
    "print(data['links'][:5])  # Display the first 5 links"
   ]
  },
  {
   "cell_type": "code",
   "execution_count": null,
   "id": "f896a144-46ac-47a3-b4da-0343e6896d93",
   "metadata": {},
   "outputs": [],
   "source": []
  }
 ],
 "metadata": {
  "kernelspec": {
   "display_name": "Python 3 (ipykernel)",
   "language": "python",
   "name": "python3"
  },
  "language_info": {
   "codemirror_mode": {
    "name": "ipython",
    "version": 3
   },
   "file_extension": ".py",
   "mimetype": "text/x-python",
   "name": "python",
   "nbconvert_exporter": "python",
   "pygments_lexer": "ipython3",
   "version": "3.12.4"
  }
 },
 "nbformat": 4,
 "nbformat_minor": 5
}

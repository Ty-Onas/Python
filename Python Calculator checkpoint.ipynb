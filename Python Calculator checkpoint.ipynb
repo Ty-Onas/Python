{
 "cells": [
  {
   "cell_type": "markdown",
   "id": "20b1ba34-d00f-43f2-b010-9e7bb70fffff",
   "metadata": {},
   "source": [
    "Create a calculator program that allows the user to perform mathematical operations on two numbers using basic functions and a dictionary to store the operations. The program should also have the ability to continue calculations with the result of previous calculations.\n",
    "\n",
    "\n",
    "Instructions:\n",
    "Create four basic mathematical functions: 'add', 'subtract', 'multiply', and 'divide' that take in two numbers and return the result of the operation.\n",
    "Create a dictionary 'operations' that assigns the functions to their corresponding operation symbols.\n",
    "Create a function 'calculator' that prompts the user to input the first number.\n",
    "Use a for loop to print the available operation symbols.\n",
    "Create a while loop that will continue to run until the user chooses to end the current calculation.\n",
    "Inside the while loop, prompt the user to select an operation symbol.\n",
    "Prompt the user to input the second number.\n",
    "Use the dictionary to retrieve the function that corresponds to the selected operation symbol and store it in a variable 'calculation_function'\n",
    "Perform the calculation by calling the 'calculation_function' on the two input numbers and store the result in a variable 'answer'.\n",
    "Print the equation and the result of the calculation.\n",
    "Ask the user if they would like to continue using the result as the first number for further calculations.\n",
    "If the user chooses to continue, update the 'num1' variable to the value of 'answer'.\n",
    "If the user chooses to start a new calculation, set the 'should_continue' variable to false and call the 'calculator' function to start a new calculation."
   ]
  },
  {
   "cell_type": "code",
   "execution_count": null,
   "id": "0e7a329e-9565-4b5d-86fc-ec0612decfab",
   "metadata": {},
   "outputs": [
    {
     "name": "stdin",
     "output_type": "stream",
     "text": [
      "Enter the first number:  8\n"
     ]
    },
    {
     "name": "stdout",
     "output_type": "stream",
     "text": [
      "Available operations:\n",
      "+\n",
      "-\n",
      "*\n",
      "/\n"
     ]
    },
    {
     "name": "stdin",
     "output_type": "stream",
     "text": [
      "Select an operation:  2\n"
     ]
    },
    {
     "name": "stdout",
     "output_type": "stream",
     "text": [
      "Invalid operation. Please try again.\n",
      "Available operations:\n",
      "+\n",
      "-\n",
      "*\n",
      "/\n"
     ]
    },
    {
     "name": "stdin",
     "output_type": "stream",
     "text": [
      "Select an operation:  -\n",
      "Enter the second number:  3\n"
     ]
    },
    {
     "name": "stdout",
     "output_type": "stream",
     "text": [
      "8.0 - 3.0 = 5.0\n"
     ]
    },
    {
     "name": "stdin",
     "output_type": "stream",
     "text": [
      "Would you like to continue using this result as the first number? (yes/no):  no\n",
      "Enter the first number:  4\n"
     ]
    },
    {
     "name": "stdout",
     "output_type": "stream",
     "text": [
      "Available operations:\n",
      "+\n",
      "-\n",
      "*\n",
      "/\n"
     ]
    },
    {
     "name": "stdin",
     "output_type": "stream",
     "text": [
      "Select an operation:  +\n",
      "Enter the second number:  9\n"
     ]
    },
    {
     "name": "stdout",
     "output_type": "stream",
     "text": [
      "4.0 + 9.0 = 13.0\n"
     ]
    },
    {
     "name": "stdin",
     "output_type": "stream",
     "text": [
      "Would you like to continue using this result as the first number? (yes/no):  no\n"
     ]
    }
   ],
   "source": [
    "# Define the basic mathematical functions\n",
    "def add(x, y):\n",
    "    return x + y\n",
    "\n",
    "def subtract(x, y):\n",
    "    return x - y\n",
    "\n",
    "def multiply(x, y):\n",
    "    return x * y\n",
    "\n",
    "def divide(x, y):\n",
    "    if y == 0:\n",
    "        return \"Error: Division by zero\"\n",
    "    return x / y\n",
    "\n",
    "# Create a dictionary to map operation symbols to functions\n",
    "operations = {\"+\": add, \"-\": subtract, \"*\": multiply, \"/\": divide}\n",
    "\n",
    "def calculator():\n",
    "    # Prompt the user for the first number\n",
    "    num1 = float(input(\"Enter the first number: \"))\n",
    "    \n",
    "    # Loop to continue calculations\n",
    "    should_continue = True\n",
    "    while should_continue:\n",
    "        # Print available operations\n",
    "        print(\"Available operations:\")\n",
    "        for symbol in operations.keys():\n",
    "            print(symbol)\n",
    "        \n",
    "        # Prompt the user to select an operation\n",
    "        operation_symbol = input(\"Select an operation: \")\n",
    "        \n",
    "        # Check if the operation is valid\n",
    "        if operation_symbol in operations:\n",
    "            # Prompt the user for the second number\n",
    "            num2 = float(input(\"Enter the second number: \"))\n",
    "            \n",
    "            # Retrieve the corresponding function from the dictionary\n",
    "            calculation_function = operations[operation_symbol]\n",
    "            \n",
    "            # Perform the calculation\n",
    "            answer = calculation_function(num1, num2)\n",
    "            \n",
    "            # Print the result\n",
    "            print(f\"{num1} {operation_symbol} {num2} = {answer}\")\n",
    "            \n",
    "            # Ask if the user wants to continue with the result\n",
    "            continue_choice = input(\"Would you like to continue using this result as the first number? (yes/no): \").strip().lower()\n",
    "            if continue_choice == 'yes':\n",
    "                num1 = answer  # Update num1 to the result\n",
    "            else:\n",
    "                should_continue = False  # End the current calculation\n",
    "                calculator()  # Start a new calculation\n",
    "        else:\n",
    "            print(\"Invalid operation. Please try again.\")\n",
    "\n",
    "# Start the calculator\n",
    "calculator()"
   ]
  },
  {
   "cell_type": "code",
   "execution_count": null,
   "id": "7260b1b9-330e-486f-b677-d6d7961945b2",
   "metadata": {},
   "outputs": [],
   "source": []
  }
 ],
 "metadata": {
  "kernelspec": {
   "display_name": "Python 3 (ipykernel)",
   "language": "python",
   "name": "python3"
  },
  "language_info": {
   "codemirror_mode": {
    "name": "ipython",
    "version": 3
   },
   "file_extension": ".py",
   "mimetype": "text/x-python",
   "name": "python",
   "nbconvert_exporter": "python",
   "pygments_lexer": "ipython3",
   "version": "3.12.4"
  }
 },
 "nbformat": 4,
 "nbformat_minor": 5
}

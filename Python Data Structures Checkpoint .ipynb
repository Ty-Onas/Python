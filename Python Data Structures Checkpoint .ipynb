{
 "cells": [
  {
   "cell_type": "markdown",
   "id": "1eb0154d-ee2d-4fce-9290-1b1fe1d21bcc",
   "metadata": {},
   "source": [
    "Create a program that allows the user to manage their shopping list. The user should be able to add items to the list, remove items, and view the current list of items.\n",
    "\n",
    "\n",
    "Instructions\n",
    "\n",
    "Statement:\n",
    "\n",
    "Create a list to store the shopping items\n",
    "Use a while loop to create a menu of options for the user to add, remove, or view items from the list\n",
    "Use a for loop to iterate through the list of items and display them to the user\n",
    "Use the range() function to limit the number of items that can be added to the list\n",
    "Use the list, tuple, set, and dictionary data structures to store and manipulate the shopping items\n",
    "Instructions:\n",
    "\n",
    "Create a list named 'shopping_list' to store the items.\n",
    "Use a while loop to create a menu of options for the user to add, remove, or view items from the list.\n",
    "Use the input() function to prompt the user to make a selection from the menu.\n",
    "Use an if-elif-else block to determine the user's selection and perform the corresponding action.\n",
    "If the user selects 'add', use the input() function to prompt the user to enter an item to add to the list. Use the range() function to limit the number of items that can be added to the list.\n",
    "If the user selects 'remove', use the input() function to prompt the user to enter an item to remove from the list.\n",
    "If the user selects 'view', use a for loop to iterate through the list of items and display them to the user.\n",
    "Use the list, tuple, set, and dictionary data structures to store and manipulate the shopping items."
   ]
  },
  {
   "cell_type": "code",
   "execution_count": null,
   "id": "e52192f5-75d6-46f2-b0d6-b9f3ebf03026",
   "metadata": {
    "scrolled": true
   },
   "outputs": [
    {
     "name": "stdout",
     "output_type": "stream",
     "text": [
      "\n",
      "Shopping List Manager\n",
      "1. Add item to shopping list\n",
      "2. Remove item from shopping list\n",
      "3. View shopping list\n",
      "4. Exit\n",
      "\n"
     ]
    },
    {
     "name": "stdin",
     "output_type": "stream",
     "text": [
      "Please select an option (1-4):  2\n",
      "Enter the item to remove:  jik\n"
     ]
    },
    {
     "name": "stdout",
     "output_type": "stream",
     "text": [
      "'jik' not found in the shopping list.\n",
      "\n",
      "Shopping List Manager\n",
      "1. Add item to shopping list\n",
      "2. Remove item from shopping list\n",
      "3. View shopping list\n",
      "4. Exit\n",
      "\n"
     ]
    },
    {
     "name": "stdin",
     "output_type": "stream",
     "text": [
      "Please select an option (1-4):  1\n"
     ]
    }
   ],
   "source": [
    "# create a list as shopping list\n",
    "shopping_list = []\n",
    "\n",
    "# Set maximum limit for items that can be added\n",
    "MAX_ITEMS = 10\n",
    "\n",
    "# Dictionary to store available options\n",
    "menu_options = {\n",
    "    '1': 'Add item to shopping list',\n",
    "    '2': 'Remove item from shopping list',\n",
    "    '3': 'View shopping list',\n",
    "    '4': 'Exit'\n",
    "}\n",
    "\n",
    "# Function to display menu\n",
    "def display_menu():\n",
    "    print(\"\\nShopping List Manager\")\n",
    "    for key, value in menu_options.items():\n",
    "        print(f\"{key}. {value}\")\n",
    "    print()\n",
    "\n",
    "# Main loop to handle the menu and user input\n",
    "while True:\n",
    "    display_menu()\n",
    "    choice = input(\"Please select an option (1-4): \")\n",
    "\n",
    "    if choice == '1':  # Add item\n",
    "        if len(shopping_list) < MAX_ITEMS:  # Check if list has reached its max capacity\n",
    "            item = input(\"Enter an item to add: \").strip()\n",
    "            if item:  # Ensure the item is not empty\n",
    "                shopping_list.append(item)\n",
    "                print(f\"'{item}' added to the shopping list.\")\n",
    "            else:\n",
    "                print(\"Item cannot be empty.\")\n",
    "        else:\n",
    "            print(\"Shopping list is full. Remove an item before adding new ones.\")\n",
    "    \n",
    "    elif choice == '2':  # Remove item\n",
    "        item = input(\"Enter the item to remove: \").strip()\n",
    "        if item in shopping_list:\n",
    "            shopping_list.remove(item)\n",
    "            print(f\"'{item}' removed from the shopping list.\")\n",
    "        else:\n",
    "            print(f\"'{item}' not found in the shopping list.\")\n",
    "\n",
    "    elif choice == '3':  # View list\n",
    "        if shopping_list:\n",
    "            print(\"\\nYour Shopping List:\")\n",
    "            for index, item in enumerate(shopping_list, start=1):  # Use for loop to iterate through list\n",
    "                print(f\"{index}. {item}\")\n",
    "        else:\n",
    "            print(\"Your shopping list is empty.\")\n",
    "    \n",
    "    elif choice == '4':  # Exit\n",
    "        print(\"Exiting the Shopping List Manager. Goodbye!\")\n",
    "        break\n",
    "    \n",
    "    else:\n",
    "        print(\"Invalid choice. Please select a valid option from the menu.\")\n",
    "\n"
   ]
  },
  {
   "cell_type": "code",
   "execution_count": null,
   "id": "4820c2e4-d79f-4b17-a6e6-3bd57cf7e626",
   "metadata": {},
   "outputs": [],
   "source": []
  }
 ],
 "metadata": {
  "kernelspec": {
   "display_name": "Python 3 (ipykernel)",
   "language": "python",
   "name": "python3"
  },
  "language_info": {
   "codemirror_mode": {
    "name": "ipython",
    "version": 3
   },
   "file_extension": ".py",
   "mimetype": "text/x-python",
   "name": "python",
   "nbconvert_exporter": "python",
   "pygments_lexer": "ipython3",
   "version": "3.12.4"
  }
 },
 "nbformat": 4,
 "nbformat_minor": 5
}

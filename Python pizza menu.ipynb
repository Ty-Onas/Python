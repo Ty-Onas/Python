{
 "cells": [
  {
   "cell_type": "markdown",
   "id": "c1d1f000-db98-4eff-928e-98573c96bbe8",
   "metadata": {},
   "source": [
    "What You're Aiming For\n",
    "\n",
    "Congratulations, you've got a job at Python Pizza. Your first job is to build an automatic pizza order program. Based on a user's order, work out their final bill.\n",
    "\n",
    " ``` Small Pizza: $15 ``` ``` \n",
    "\n",
    "``` Medium Pizza: $20 ``` \n",
    "\n",
    "``` Large Pizza: $25 ``` \n",
    "\n",
    "If they want to add pepperoni :\n",
    "\n",
    "``` Pepperoni for Small Pizza: +$2 ``` \n",
    "\n",
    "``` Pepperoni for Medium or Large Pizza: +$3 ```\n",
    "\n",
    "If they want cheese :\n",
    "\n",
    " ``` Extra cheese for any size pizza: + $1 ```\n",
    "\n",
    "\n",
    "Instructions\n",
    "\n",
    "Open a new file in your Python development environment or IDE.\n",
    "Begin by typing the line 'Welcome to Python Pizza Deliveries' which will display a welcome message when the code is run.\n",
    "Add a line that prompts the user for the size of the pizza they want using the input() function and stores the user's input in a variable named 'size'.\n",
    "Add a line that prompts the user if they want pepperoni on their pizza using the input() function and stores the user's input in a variable named 'add_pepperoni'.\n",
    "Add a line that prompts the user if they want extra cheese on their pizza using the input() function and stores the user's input in a variable named 'extra_cheese'.\n",
    "Check your code for any syntax errors or mistakes.\n",
    "Run the code and test it by providing inputs for size, pepperoni, and extra cheese."
   ]
  },
  {
   "cell_type": "code",
   "execution_count": 59,
   "id": "2ae72b5c-0a39-4ee7-8cec-4f04b499f2ec",
   "metadata": {},
   "outputs": [
    {
     "name": "stdout",
     "output_type": "stream",
     "text": [
      "Welcome to Python Pizza Deliveries!\n"
     ]
    },
    {
     "name": "stdin",
     "output_type": "stream",
     "text": [
      "\n",
      "What size pizza do you want? :\n",
      "Small = $15 \n",
      "Medium = $20 \n",
      "Large = $25 \n",
      " large\n",
      "\n",
      "Do you want pepperoni? : Yes or No\n",
      " no\n",
      "\n",
      "Do you want extra cheese? : Yes or No\n",
      " no\n"
     ]
    },
    {
     "name": "stdout",
     "output_type": "stream",
     "text": [
      "\n",
      "Your final bill is: $25\n"
     ]
    }
   ],
   "source": [
    "#Welcome message\n",
    "print(\"Welcome to Python Pizza Deliveries!\")\n",
    "\n",
    "# Select pizza size from menu \n",
    "Size = input(\"\\nWhat size pizza do you want? :\\nSmall = $15 \\nMedium = $20 \\nLarge = $25 \\n\").title()\n",
    "\n",
    "# Billing based on selection\n",
    "bill = 0\n",
    "if Size == \"Small\":\n",
    "    bill += 15\n",
    "elif Size == \"Medium\":\n",
    "    bill += 20\n",
    "elif Size == \"Large\":\n",
    "    bill += 25\n",
    "\n",
    "# Add bill for pepperoni \n",
    "add_pepperoni = input(\"\\nDo you want pepperoni? : Yes or No\\n\").title()\n",
    "if add_pepperoni == \"Yes\":\n",
    "    print('Pepperoni(Small Pizza) = $2\\nPepperoni(Medium/Large Pizza) = $3')\n",
    "    if Size == \"Small\":\n",
    "        bill += 2\n",
    "    elif Size == \"Medium\" or \"Large\":\n",
    "        bill += 3\n",
    "else:\n",
    "    bill += 0\n",
    "\n",
    "# Add bill for extra cheese \n",
    "extra_cheese = input(\"\\nDo you want extra cheese? : Yes or No\\n\").title()\n",
    "if extra_cheese == \"Yes\":\n",
    "    print('Extra cheese for any size pizza = $1')\n",
    "    bill += 1\n",
    "else:\n",
    "    bill += 0\n",
    "\n",
    "# Print total bill\n",
    "print(f\"\\nYour final bill is: ${bill}\")\n"
   ]
  },
  {
   "cell_type": "code",
   "execution_count": null,
   "id": "bd6fe42d-8651-48b8-b5f4-5a9cc3248136",
   "metadata": {},
   "outputs": [],
   "source": []
  }
 ],
 "metadata": {
  "kernelspec": {
   "display_name": "Python 3 (ipykernel)",
   "language": "python",
   "name": "python3"
  },
  "language_info": {
   "codemirror_mode": {
    "name": "ipython",
    "version": 3
   },
   "file_extension": ".py",
   "mimetype": "text/x-python",
   "name": "python",
   "nbconvert_exporter": "python",
   "pygments_lexer": "ipython3",
   "version": "3.12.4"
  }
 },
 "nbformat": 4,
 "nbformat_minor": 5
}
